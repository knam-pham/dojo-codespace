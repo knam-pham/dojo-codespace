{
 "cells": [
  {
   "attachments": {},
   "cell_type": "markdown",
   "metadata": {},
   "source": [
    "## Flow Control and Looping\n",
    "\n",
    "So far, we have learned about variables, which is a building block of programming. However, sometimes the program that we write needs to perform some operations based on some certain conditions or in some other cases, it has to perform the same operation repetitively for a number of times.\n",
    "\n",
    "In this section, we will learn about 2 other building blocks of programming: flow control and looping. One will help our program to do some tasks based on some conditions and one will help us repeatedly do a single task many times."
   ]
  },
  {
   "attachments": {},
   "cell_type": "markdown",
   "metadata": {},
   "source": [
    "### 1. Flow Control\n",
    "\n",
    "A flow (or execution flow) in a program is the order in which the statements in our code are executed. The programs that we wrote in previous section all have very simple flow. The statements are executed from top to bottom, one by one until the last one runs. However, in some situation, we only need to execute some lines of code when a particular condition is satisfied.\n",
    "\n",
    "For example, if we want to write a program to check if a given number is odd or even and print a message accordingly, here's how we can do it:"
   ]
  },
  {
   "cell_type": "code",
   "execution_count": null,
   "metadata": {},
   "outputs": [],
   "source": [
    "given_number = int(input(\"Please enter a number: \"))\n",
    "\n",
    "if given_number % 2 == 0:  # If given number is an even number\n",
    "    print(\"Even!\")\n",
    "else:\n",
    "    print(\"Odd!\")"
   ]
  },
  {
   "attachments": {},
   "cell_type": "markdown",
   "metadata": {},
   "source": [
    "In the example above, we have used an `if ... else ...` statement to control the flow of our program. The basic syntax of an `if ... else ...` statement is:\n",
    "\n",
    "```python\n",
    "if <condition_1> {\n",
    "    # Something to do if condition_1 is satisfied\n",
    "}\n",
    "elif <condition_2> {\n",
    "    # Something to do if condition_1 is NOT satisfied but condition_2 is satisfied\n",
    "}\n",
    "elif <condition_3> {\n",
    "\n",
    "}\n",
    "... # More conditions here if needed\n",
    "else {\n",
    "    # Something to do if nothing above is satisfied\n",
    "}\n",
    "```"
   ]
  },
  {
   "attachments": {},
   "cell_type": "markdown",
   "metadata": {},
   "source": [
    "**NOTE**: Take a look at the example code below:\n",
    "\n",
    "```python\n",
    "if <condition_1> {\n",
    "    # Action A\n",
    "}\n",
    "else {\n",
    "    # Action B\n",
    "}\n",
    "```\n",
    "In the code above, `Action A` and `Action B` are mutual exclusive. That means only one of them can be executed. Sometimes this is not what we want, if both of the actions can happen at the same time, we will need to remove the `else` statement. \n",
    "\n",
    "For example, if we want to check if a number is a multiple of 3 or 5 or both, we cannot use the above syntax. The below code will produce wrong answers with numbers that are multiple of both 3 and 5."
   ]
  },
  {
   "cell_type": "code",
   "execution_count": null,
   "metadata": {},
   "outputs": [],
   "source": [
    "number = 15\n",
    "\n",
    "if number % 3 == 0:\n",
    "    print(\"Multiple of 3\")\n",
    "elif number % 5 == 0:    \n",
    "    print(\"Multiple of 5\")  # This won't be executed"
   ]
  },
  {
   "attachments": {},
   "cell_type": "markdown",
   "metadata": {},
   "source": [
    "The correct solution would be:"
   ]
  },
  {
   "cell_type": "code",
   "execution_count": null,
   "metadata": {},
   "outputs": [],
   "source": [
    "number = 15\n",
    "\n",
    "# The conditions are checked separately\n",
    "if number % 3 == 0:\n",
    "    print(\"Multiple of 3\")   \n",
    "\n",
    "if number % 5 == 0:    \n",
    "    print(\"Multiple of 5\")  "
   ]
  },
  {
   "attachments": {},
   "cell_type": "markdown",
   "metadata": {},
   "source": [
    "### 3. Looping\n",
    "\n",
    "Consider the following problem: Print all numbers from 1 to 10.\n",
    "A naive solution would have 10 `print()` statements, with each statement prints a number from 1 to 10 like this:"
   ]
  },
  {
   "cell_type": "code",
   "execution_count": null,
   "metadata": {},
   "outputs": [],
   "source": [
    "print(1)\n",
    "print(2)\n",
    "print(3)\n",
    "print(4)\n",
    "print(5)\n",
    "print(6)\n",
    "print(7)\n",
    "print(8)\n",
    "print(9)\n",
    "print(10)"
   ]
  },
  {
   "attachments": {},
   "cell_type": "markdown",
   "metadata": {},
   "source": [
    "However, if we change the problem requirement a little bit and requires the program to print all numbers from 1 to $N$ with $N$ being 1000, the above solution wouldn't be feasible as we would need to write 1000 lines of `print()` statement. This is where we need to use looping."
   ]
  },
  {
   "cell_type": "code",
   "execution_count": null,
   "metadata": {},
   "outputs": [],
   "source": [
    "n = 1000\n",
    "for number in range(1001):\n",
    "    print(number)"
   ]
  },
  {
   "attachments": {},
   "cell_type": "markdown",
   "metadata": {},
   "source": [
    "The above example uses a `for` loop, which will executes some code for an $N$ number of times. However, there is also another type of loop which is `while` loop, which will execute some code as long as a condition is stastified. We can re-write the above solution with a `while` loop."
   ]
  },
  {
   "cell_type": "code",
   "execution_count": null,
   "metadata": {},
   "outputs": [],
   "source": [
    "number = 1\n",
    "while number <= 1000:  # Keep printing as long as number is <= 1000\n",
    "    print(number)\n",
    "    number = number + 1"
   ]
  },
  {
   "attachments": {},
   "cell_type": "markdown",
   "metadata": {},
   "source": [
    "As a rule of thumb, we use `for` loop when we know beforehand how many times we need to repeat an action and we use `while` loop when we need to repeat based on some conditions but don't know exactly how many times we want to run the code. However, this is just to make sure that our code is more readable and easy to understand. In practice, these 2 types of looping are interchangable (as can be seen in the above example)."
   ]
  },
  {
   "attachments": {},
   "cell_type": "markdown",
   "metadata": {},
   "source": [
    "### Exercises"
   ]
  },
  {
   "attachments": {},
   "cell_type": "markdown",
   "metadata": {},
   "source": [
    "1. Implement a program that simulates a basic banking application. Allow the user to perform actions such as balance inquiry, deposit, and withdrawal. Use a loop to repeatedly prompt the user for actions until they choose to exit.\n",
    "\n",
    "Your program should look like this:\n",
    "```\n",
    "--- Banking Application ---\n",
    "\n",
    "Choose an action:\n",
    "1. Balance Inquiry\n",
    "2. Deposit\n",
    "3. Withdrawal\n",
    "4. Exit\n",
    "\n",
    "Enter your choice: 2\n",
    "Enter the deposit amount: 500\n",
    "Deposit successful. New balance: $1500\n",
    "\n",
    "Enter your choice: 1\n",
    "Balance: $1500\n",
    "\n",
    "Enter your choice: 3\n",
    "Enter the withdrawal amount: 200\n",
    "Withdrawal successful. New balance: $1300\n",
    "\n",
    "Enter your choice: 4\n",
    "Exiting...\n",
    "```"
   ]
  },
  {
   "cell_type": "code",
   "execution_count": null,
   "metadata": {},
   "outputs": [],
   "source": [
    "# Your code goes here"
   ]
  },
  {
   "attachments": {},
   "cell_type": "markdown",
   "metadata": {},
   "source": [
    "2. Create a program that calculates the compound interest for a series of investments. Prompt the user to enter the principal amount, interest rate (in percentage), and the number of years for multiple investments. Use a loop to calculate and display the compound interest earned for each investment.\n",
    "\n",
    "Your program should look like this:\n",
    "```\n",
    "Enter the principal amount for Investment 1: 1000\n",
    "Enter the interest rate (%) for Investment 1: 5.5\n",
    "Enter the number of years for Investment 1: 3\n",
    "Compound interest earned for Investment 1: 166.38\n",
    "\n",
    "Enter the principal amount for Investment 2: 2000\n",
    "Enter the interest rate (%) for Investment 2: 4.25\n",
    "Enter the number of years for Investment 2: 5\n",
    "Compound interest earned for Investment 2: 485.56\n",
    "```"
   ]
  },
  {
   "cell_type": "code",
   "execution_count": null,
   "metadata": {},
   "outputs": [],
   "source": [
    "# Your code goes here"
   ]
  },
  {
   "attachments": {},
   "cell_type": "markdown",
   "metadata": {},
   "source": [
    "3. Write a program that calculates the total revenue for a sales team based on their individual sales performance. Prompt the user to enter the sales figures for each salesperson, and use a loop to calculate and display the total revenue generated by the team.\n",
    "\n",
    "Your program should look like this:\n",
    "```\n",
    "Enter the sales for Salesperson 1: 5000\n",
    "Enter the sales for Salesperson 2: 8000\n",
    "...\n",
    "Enter the sales for Salesperson 5: 2000\n",
    "Total revenue generated by the sales team: 27,000\n",
    "\n",
    "```"
   ]
  },
  {
   "cell_type": "code",
   "execution_count": null,
   "metadata": {},
   "outputs": [],
   "source": [
    "# Your code goes here"
   ]
  }
 ],
 "metadata": {
  "kernelspec": {
   "display_name": "Python 3",
   "language": "python",
   "name": "python3"
  },
  "language_info": {
   "codemirror_mode": {
    "name": "ipython",
    "version": 3
   },
   "file_extension": ".py",
   "mimetype": "text/x-python",
   "name": "python",
   "nbconvert_exporter": "python",
   "pygments_lexer": "ipython3",
   "version": "3.10.4"
  },
  "orig_nbformat": 4
 },
 "nbformat": 4,
 "nbformat_minor": 2
}
