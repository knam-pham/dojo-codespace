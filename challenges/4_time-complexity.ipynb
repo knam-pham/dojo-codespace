{
 "cells": [
  {
   "attachments": {},
   "cell_type": "markdown",
   "metadata": {},
   "source": [
    "## Running Time Complexity\n",
    "\n",
    "Consider the array duplication exercise in the previous section, here we have one of the solutions that can solve it. The idea here is to compare each element of the array to all other elements of the array that we have previously considered. If we cannot find any element that is the same as the one we are considering, that means it is unique."
   ]
  },
  {
   "cell_type": "code",
   "execution_count": null,
   "metadata": {},
   "outputs": [],
   "source": [
    "\n",
    "def remove_duplicates(arr):\n",
    "    unique_items = [] # A new array that contains just the unique values of the input array\n",
    "\n",
    "    for i in range(0, len(arr)):\n",
    "        found_same_element = False\n",
    "\n",
    "        # looping through all other elements\n",
    "        for j in range(0, i):\n",
    "            if arr[i] == arr[j]:\n",
    "               found_same_element = True\n",
    "               break\n",
    "\n",
    "        if found_same_element == False:\n",
    "            unique_items.append(arr[i]) \n",
    "\n",
    "    return unique_items "
   ]
  },
  {
   "attachments": {},
   "cell_type": "markdown",
   "metadata": {},
   "source": [
    "If we take a closer look, the solution above has nested loops. The outer loop will looping from 0 to `len(arr)` (i.e. the number of items stored in the array). For each iteration of the outer loop, we run the inner loop starting from 0 to `len(arr)`. \n",
    "\n",
    "In each iteration of the inner loop, we perform the check using the if...else statement.\n",
    "\n",
    "Assume that the input array has 10 items. The outer loop will loop 10 times, for the inner loop, it will depends on the number of items in `unique_items`, but the worst case would be where it contains all items considered so far. That means `1 + 2 + 3 + ... + 9 = 45` times. \n",
    "\n",
    "Or, if the input array has $N$ elements, the number of times the if...else statement is executed is $1 + 2 + 3 + 4 + ... + N - 1 \\approx N^2$ for large $N$. This is fine for small input, but if our input is big, say 1 million items, that means we will run the if...else statement for about $10^6 \\cdot 10^6 = 10^{12}$ times!\n",
    "\n",
    "Let's see how long it take to run the above function with an array that has 5 million items:"
   ]
  },
  {
   "cell_type": "code",
   "execution_count": null,
   "metadata": {},
   "outputs": [],
   "source": [
    "def read_test_case(file_path):\n",
    "    with open(file_path, 'r') as file:\n",
    "        file.readline()\n",
    "\n",
    "        # Read the input\n",
    "        test_input = file.readline()\n",
    "        test_input = [int(x) for x in test_input.split(' ')]\n",
    "\n",
    "        # Read the output\n",
    "        file.readline()\n",
    "        file.readline()\n",
    "        test_output = file.readline()\n",
    "        test_output = [int(x) for x in test_output.split(' ')]\n",
    "\n",
    "    return test_input, test_output\n",
    "\n",
    "# Example usage\n",
    "file_path = './test-cases/unique_values.txt'\n",
    "test_input, test_output = read_test_case(file_path)\n",
    "\n",
    "unique = remove_duplicates(test_input)\n",
    "\n",
    "print(unique)\n"
   ]
  },
  {
   "attachments": {},
   "cell_type": "markdown",
   "metadata": {},
   "source": [
    "The above code might not take too long to finish but note that the task that we are performing in the if...else statement is very simple. In cases where we perform more complicated, time-consuming tasks, it will take even longer. \n",
    "\n",
    "### Exercises\n",
    "\n",
    "Can you give a better solution to the above problem?"
   ]
  },
  {
   "cell_type": "code",
   "execution_count": null,
   "metadata": {},
   "outputs": [],
   "source": [
    "# Your code here\n",
    "\n",
    "def remove_duplicates(arr):\n",
    "        \n",
    "    return []"
   ]
  },
  {
   "attachments": {},
   "cell_type": "markdown",
   "metadata": {},
   "source": [
    "Let test your code again to see how long it takes now:"
   ]
  },
  {
   "cell_type": "code",
   "execution_count": null,
   "metadata": {},
   "outputs": [],
   "source": [
    "def read_test_case(file_path):\n",
    "    with open(file_path, 'r') as file:\n",
    "        file.readline()\n",
    "\n",
    "        # Read the input\n",
    "        test_input = file.readline()\n",
    "        test_input = [int(x) for x in test_input.split(' ')]\n",
    "\n",
    "        # Read the output\n",
    "        file.readline()\n",
    "        file.readline()\n",
    "        test_output = file.readline()\n",
    "        test_output = [int(x) for x in test_output.split(' ')]\n",
    "\n",
    "    return test_input, test_output\n",
    "\n",
    "# Example usage\n",
    "file_path = './test-cases/unique_values.txt'\n",
    "test_input, test_output = read_test_case(file_path)\n",
    "\n",
    "unique = remove_duplicates(test_input)\n",
    "\n",
    "print(unique)\n"
   ]
  }
 ],
 "metadata": {
  "kernelspec": {
   "display_name": "Python 3",
   "language": "python",
   "name": "python3"
  },
  "language_info": {
   "codemirror_mode": {
    "name": "ipython",
    "version": 3
   },
   "file_extension": ".py",
   "mimetype": "text/x-python",
   "name": "python",
   "nbconvert_exporter": "python",
   "pygments_lexer": "ipython3",
   "version": "3.10.4"
  },
  "orig_nbformat": 4
 },
 "nbformat": 4,
 "nbformat_minor": 2
}
