{
 "cells": [
  {
   "attachments": {},
   "cell_type": "markdown",
   "metadata": {},
   "source": [
    "## Variables\n",
    "\n",
    "Variables are building blocks of all software programs. We will go through the definition and how to use them in in this section."
   ]
  },
  {
   "attachments": {},
   "cell_type": "markdown",
   "metadata": {},
   "source": [
    "### 1. What is variables?\n",
    "\n",
    "Imagine you are moving house and need to put the objects in your current house into different boxes in order to move to a new house.\n",
    "\n",
    "To make it easier for you to track which box contain which objects, you label the box with some additional information such as what type of objects the box contains, who owns that box (your mom, brother, sister, etc).\n",
    "\n",
    "By doing that, when coming to the new house, you will have a rough idea of what each box has inside just by looking at the label. \n",
    "\n",
    "The objects stored in each box will then be used again later on when you move to the new house.\n",
    "\n",
    "Similar concept can be applied to variables in programming. A variable is a memory space in your computer which you can use to store some values that you want. Similar to how a box can be used to store some objects. Morever, you can name a variable by anything you want (a descriptive name is recommended) just like how you label the boxes, as long as it helps you to know what values the variable isu holding.\n",
    "\n",
    "For example:"
   ]
  },
  {
   "cell_type": "code",
   "execution_count": null,
   "metadata": {},
   "outputs": [],
   "source": [
    "greeting = \"Hello world\" # Creat a variable named greeting and give it a value of \"Hello world\"\n",
    "\n",
    "print(greeting) # Print the value stored in the variable 'str'"
   ]
  },
  {
   "attachments": {},
   "cell_type": "markdown",
   "metadata": {},
   "source": [
    "### 2. How to use variables?\n",
    "\n",
    "There are many things you can do with a variable. You can change the values that it is holding, print out the values (just like the previous example), do some calculations with those values, etc.\n",
    "\n",
    "Below is an example of some operations we can do with a variable."
   ]
  },
  {
   "cell_type": "code",
   "execution_count": 1,
   "metadata": {},
   "outputs": [
    {
     "name": "stdout",
     "output_type": "stream",
     "text": [
      "Hello! My name is Harry Porter\n",
      "Hello! My name is Severus Snape\n",
      "A year has 525600 minutes\n"
     ]
    }
   ],
   "source": [
    "greeting = \"Hello! My name is \"\n",
    "name = \"Harry Porter\" # Harry says hi\n",
    "\n",
    "print(greeting + name)\n",
    "\n",
    "name = \"Severus Snape\" \n",
    "print(greeting + name) # Professor Severus says hi\n",
    "\n",
    "days_in_year = 365 # Assumming not leap year\n",
    "hours_in_day = 24 # A day has 24 hours\n",
    "minutes_in_hour = 60 # An hour has 60 minutes\n",
    "\n",
    "print(\"A year has \" + str(days_in_year*hours_in_day*minutes_in_hour) + \" minutes\")"
   ]
  },
  {
   "attachments": {},
   "cell_type": "markdown",
   "metadata": {},
   "source": [
    "#### Bonus: Asking the user to input values for variables\n",
    "\n",
    "In previous examples, the values of the variables are created by us (i.e. the programmers). However, in many situations, our programs have to interact with the users and ask them to input some values. For example, if you are developing a program to calculate the users' BMI based on their weight/height, you can't assign the values of these metrics directly in the code. You need to ask the users to provide their own numbers.\n",
    "\n",
    "Below is an example of how we do it in Python, similar concept can be applied for other programming languages but with different syntax."
   ]
  },
  {
   "cell_type": "code",
   "execution_count": 3,
   "metadata": {},
   "outputs": [
    {
     "name": "stdout",
     "output_type": "stream",
     "text": [
      "Your BMI is: 23.183673469387756\n"
     ]
    }
   ],
   "source": [
    "weight = input(\"Please enter your weight in kilograms: \")\n",
    "weight = float(weight) # By default, the values input by the user are treated as strings\n",
    "\n",
    "height = input(\"Please enter your height in meters: \")\n",
    "height = float(height)\n",
    "\n",
    "bmi = weight / (height*height)\n",
    "\n",
    "print(\"Your BMI is: \" + str(bmi))"
   ]
  },
  {
   "attachments": {},
   "cell_type": "markdown",
   "metadata": {},
   "source": [
    "### Exercises\n",
    "1. Write a program to calculate the area of a circle. The program should ask the user for the radius in centimeters and print the area of the circle in meters. The formula to calculate the area of a circle is:\n",
    "\n",
    "$\n",
    "Area = \\pi * Radius^2\n",
    "$"
   ]
  },
  {
   "cell_type": "code",
   "execution_count": null,
   "metadata": {},
   "outputs": [],
   "source": [
    "# Write your code here!"
   ]
  },
  {
   "attachments": {},
   "cell_type": "markdown",
   "metadata": {},
   "source": [
    "2. Write a program that converts Celsius to Fahrenheit. The program should ask the user for a temperature in Celsius, and then print out the equivalent temperature in Fahrenheit. Below is the formula to convert Celsius to Fahrenheit:\n",
    "\n",
    "$\n",
    "F = (C * 9/5) + 32\n",
    "$"
   ]
  },
  {
   "cell_type": "code",
   "execution_count": null,
   "metadata": {},
   "outputs": [],
   "source": [
    "# Write your code here"
   ]
  }
 ],
 "metadata": {
  "kernelspec": {
   "display_name": "Python 3",
   "language": "python",
   "name": "python3"
  },
  "language_info": {
   "codemirror_mode": {
    "name": "ipython",
    "version": 3
   },
   "file_extension": ".py",
   "mimetype": "text/x-python",
   "name": "python",
   "nbconvert_exporter": "python",
   "pygments_lexer": "ipython3",
   "version": "3.10.4"
  },
  "orig_nbformat": 4
 },
 "nbformat": 4,
 "nbformat_minor": 2
}
