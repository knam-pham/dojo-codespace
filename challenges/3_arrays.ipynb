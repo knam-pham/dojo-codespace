{
 "cells": [
  {
   "attachments": {},
   "cell_type": "markdown",
   "metadata": {},
   "source": [
    "## Arrays\n",
    "\n",
    "So far, we have been saving values into individual variables. However, in many situation we need to deal with a collections of data such as: processing payrolls for employees of a company, marking the tests submitted by students of a class, etc.\n",
    "\n",
    "Since our collections can have a large number of items (e.g. a class can have 30 students, a company can have 100 employees), creating individual variables and assigning values to each of them is not efficient. Therefore, array was introduced to solve this issue.\n",
    "\n",
    "By definition, an array is a list that holds many items (a.k.a values) that are similar to each other.\n",
    "\n",
    "For example, here is how we create an array to store marks of 3 students of the same class:"
   ]
  },
  {
   "cell_type": "code",
   "execution_count": 1,
   "metadata": {},
   "outputs": [],
   "source": [
    "students_marks = [80, 75, 90]"
   ]
  },
  {
   "attachments": {},
   "cell_type": "markdown",
   "metadata": {},
   "source": [
    "### Operating on arrays\n",
    "\n",
    "There are many operations that we can perform on an array, some of the most used ones are described below.\n",
    "\n",
    "#### 1. Accessing and changing value of an item\n",
    "\n",
    "We access the items stored in an array by using an index. The index is just the position of the item in the array. In most programming languages, the index of arrays start from 0 (0-based index), however, there are also some other languages that use 1-based index although very rare.\n",
    "\n",
    "For example to access the first student's marks, we can do the following:"
   ]
  },
  {
   "cell_type": "code",
   "execution_count": 2,
   "metadata": {},
   "outputs": [
    {
     "name": "stdout",
     "output_type": "stream",
     "text": [
      "80\n"
     ]
    }
   ],
   "source": [
    "print(students_marks[0])"
   ]
  },
  {
   "attachments": {},
   "cell_type": "markdown",
   "metadata": {},
   "source": [
    "After accessing the item, we can simply treat it as a normal variable and change the value however we want."
   ]
  },
  {
   "cell_type": "code",
   "execution_count": 3,
   "metadata": {},
   "outputs": [
    {
     "name": "stdout",
     "output_type": "stream",
     "text": [
      "[100, 75, 90]\n"
     ]
    }
   ],
   "source": [
    "students_marks[0] = 100\n",
    "\n",
    "print(students_marks)"
   ]
  },
  {
   "attachments": {},
   "cell_type": "markdown",
   "metadata": {},
   "source": [
    "#### 2. Adding an item to an array\n",
    "\n",
    "You can add an item to the end of an array like so:"
   ]
  },
  {
   "cell_type": "code",
   "execution_count": 4,
   "metadata": {},
   "outputs": [
    {
     "name": "stdout",
     "output_type": "stream",
     "text": [
      "[100, 75, 90, 56]\n"
     ]
    }
   ],
   "source": [
    "students_marks.append(56)\n",
    "\n",
    "print(students_marks)"
   ]
  },
  {
   "attachments": {},
   "cell_type": "markdown",
   "metadata": {},
   "source": [
    "#### 2. Iterating over an array\n",
    "\n",
    "In many situations, we need to perform an operation on each item of an array. We can simply do that by using a `for` or `while` loop, like below:"
   ]
  },
  {
   "cell_type": "code",
   "execution_count": 5,
   "metadata": {},
   "outputs": [
    {
     "name": "stdout",
     "output_type": "stream",
     "text": [
      "100\n",
      "75\n",
      "90\n",
      "56\n"
     ]
    }
   ],
   "source": [
    "for index in range(0, len(students_marks)):\n",
    "    print(students_marks[index])"
   ]
  },
  {
   "attachments": {},
   "cell_type": "markdown",
   "metadata": {},
   "source": [
    "### Exercises\n",
    "\n",
    "#### 1. Array sum\n",
    "Given an array that contains only integers, find the sum of all elements in that array."
   ]
  },
  {
   "cell_type": "code",
   "execution_count": 7,
   "metadata": {},
   "outputs": [
    {
     "name": "stdout",
     "output_type": "stream",
     "text": [
      "WRONG ANSWER! Expected 15, got 0\n"
     ]
    }
   ],
   "source": [
    "array = [1, 2, 3, 4, 5]\n",
    "expected_output = 15\n",
    "\n",
    "def array_sum(arr):\n",
    "    # your code goes here\n",
    "    # the function needs to return a value\n",
    "    return 0\n",
    "\n",
    "output = array_sum(array)\n",
    "if output == expected_output:\n",
    "    print(\"YAY!\")\n",
    "else:\n",
    "    print(\"WRONG ANSWER! Expected \" + str(expected_output) + \", got \" + str(output))"
   ]
  },
  {
   "attachments": {},
   "cell_type": "markdown",
   "metadata": {},
   "source": [
    "#### 2. Maximum element\n",
    "Given an array that contains only integers, find the maximum element of that array."
   ]
  },
  {
   "cell_type": "code",
   "execution_count": 8,
   "metadata": {},
   "outputs": [
    {
     "name": "stdout",
     "output_type": "stream",
     "text": [
      "YAY!\n"
     ]
    }
   ],
   "source": [
    "array = [3, 9, 2, 5, 1]\n",
    "expected_output = 9\n",
    "\n",
    "def find_max(arr):\n",
    "    # your code goes here\n",
    "    # the function needs to return a value\n",
    "    return 0 \n",
    "\n",
    "output = find_max(array)\n",
    "if output == expected_output:\n",
    "    print(\"YAY!\")\n",
    "else:\n",
    "    print(\"WRONG ANSWER! Expected \" + str(expected_output) + \", got \" + str(output))"
   ]
  },
  {
   "attachments": {},
   "cell_type": "markdown",
   "metadata": {},
   "source": [
    "#### 4. Remove duplicate elements\n",
    "Given an array that contains only integers, remove all duplicate elements in that array and return a new array that only has unique values of the old one."
   ]
  },
  {
   "cell_type": "code",
   "execution_count": 15,
   "metadata": {},
   "outputs": [
    {
     "name": "stdout",
     "output_type": "stream",
     "text": [
      "WRONG ANSWER! Value 9 already exists.\n"
     ]
    }
   ],
   "source": [
    "def check_result(output, expected):\n",
    "    unique_vals = {}\n",
    "    for val in expected:\n",
    "        unique_vals[val] = True\n",
    "        \n",
    "    for val in output:\n",
    "        if val not in unique_vals:\n",
    "            print(\"WRONG ANSWER! Value: \" + str(val) + \" doesn't exist in the input array.\")\n",
    "            return\n",
    "\n",
    "        if unique_vals[val] == False:\n",
    "            print(\"WRONG ANSWER! Value \" + str(val) + \" already exists in your answer.\")\n",
    "            return\n",
    "            \n",
    "        unique_vals[val] = False\n",
    "\n",
    "    for val, checked in unique_vals.items():\n",
    "        if checked == True:\n",
    "            print(\"WRONG ANSWER! Value \" + str(val) + \" is expected but not included in your answer.\")\n",
    "            return\n",
    "\n",
    "    print(\"YAY!\")\n",
    "\n",
    "array = [3, 9, 2, 5, 1, 1, 2, 5, 5, 5]\n",
    "expected_output = [3, 9, 2, 5, 1]\n",
    "\n",
    "def remove_duplicates(arr):\n",
    "    # your code goes here\n",
    "    # the function needs to return an array\n",
    "    return [] \n",
    "\n",
    "output = remove_duplicates(array)\n",
    "\n",
    "check_result(output, expected_output)"
   ]
  },
  {
   "attachments": {},
   "cell_type": "markdown",
   "metadata": {},
   "source": [
    "#### 5. Arrays intersection\n",
    "Given 2 arrays, both contains only integers. Return a new array that contains elements that appear in both of the given arrays. If there are duplicate values in any of the arrays, include it only once in the answer."
   ]
  },
  {
   "cell_type": "code",
   "execution_count": 19,
   "metadata": {},
   "outputs": [
    {
     "name": "stdout",
     "output_type": "stream",
     "text": [
      "WRONG ANSWER! Value: 8 doesn't exist in the expected answer.\n"
     ]
    }
   ],
   "source": [
    "def check_result(output, expected):\n",
    "    unique_vals = {}\n",
    "    for val in expected:\n",
    "        unique_vals[val] = True\n",
    "        \n",
    "    for val in output:\n",
    "        if val not in unique_vals:\n",
    "            print(\"WRONG ANSWER! Value: \" + str(val) + \" doesn't exist in the expected answer.\")\n",
    "            return\n",
    "\n",
    "        if unique_vals[val] == False:\n",
    "            print(\"WRONG ANSWER! Value \" + str(val) + \" already is duplicated in your answer.\")\n",
    "            return\n",
    "            \n",
    "        unique_vals[val] = False\n",
    "\n",
    "    for val, checked in unique_vals.items():\n",
    "        if checked == True:\n",
    "            print(\"WRONG ANSWER! Value \" + str(val) + \" is expected but not included in your answer.\")\n",
    "    print(\"YAY!\")\n",
    "\n",
    "array_one = [3, 9, 2, 5, 1, 1, 2, 5, 5, 5]\n",
    "array_two = [3, 5, 5, 8, 10]\n",
    "expected_output = [3, 5]\n",
    "\n",
    "def find_intersection(arr1, arr2):\n",
    "    # your code goes here\n",
    "    # the function needs to return an array\n",
    "    return []\n",
    "\n",
    "output = find_intersection(array_one, array_two)\n",
    "\n",
    "check_result(output, expected_output)"
   ]
  }
 ],
 "metadata": {
  "kernelspec": {
   "display_name": "Python 3",
   "language": "python",
   "name": "python3"
  },
  "language_info": {
   "codemirror_mode": {
    "name": "ipython",
    "version": 3
   },
   "file_extension": ".py",
   "mimetype": "text/x-python",
   "name": "python",
   "nbconvert_exporter": "python",
   "pygments_lexer": "ipython3",
   "version": "3.10.4"
  },
  "orig_nbformat": 4
 },
 "nbformat": 4,
 "nbformat_minor": 2
}
